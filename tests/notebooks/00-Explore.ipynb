{
 "cells": [
  {
   "cell_type": "code",
   "execution_count": 1,
   "id": "06aefc4e",
   "metadata": {},
   "outputs": [
    {
     "data": {
      "application/javascript": [
       "if (!(\"Notification\" in window)) {\n",
       "    alert(\"This browser does not support desktop notifications, so the %%notify magic will not work.\");\n",
       "} else if (Notification.permission !== 'granted' && Notification.permission !== 'denied') {\n",
       "    Notification.requestPermission(function (permission) {\n",
       "        if(!('permission' in Notification)) {\n",
       "            Notification.permission = permission;\n",
       "        }\n",
       "    })\n",
       "}\n"
      ],
      "text/plain": [
       "<IPython.core.display.Javascript object>"
      ]
     },
     "metadata": {},
     "output_type": "display_data"
    },
    {
     "data": {
      "application/javascript": [
       "\n",
       "            setTimeout(function() {\n",
       "                var nbb_cell_id = 1;\n",
       "                var nbb_unformatted_code = \"%reload_ext jupyternotify\\n%reload_ext nb_black\\n%reload_ext autoreload\\n%reload_ext line_profiler\\n%autoreload 2\\n\\nfrom torch_snippets import *\";\n",
       "                var nbb_formatted_code = \"%reload_ext jupyternotify\\n%reload_ext nb_black\\n%reload_ext autoreload\\n%reload_ext line_profiler\\n%autoreload 2\\n\\nfrom torch_snippets import *\";\n",
       "                var nbb_cells = Jupyter.notebook.get_cells();\n",
       "                for (var i = 0; i < nbb_cells.length; ++i) {\n",
       "                    if (nbb_cells[i].input_prompt_number == nbb_cell_id) {\n",
       "                        if (nbb_cells[i].get_text() == nbb_unformatted_code) {\n",
       "                             nbb_cells[i].set_text(nbb_formatted_code);\n",
       "                        }\n",
       "                        break;\n",
       "                    }\n",
       "                }\n",
       "            }, 500);\n",
       "            "
      ],
      "text/plain": [
       "<IPython.core.display.Javascript object>"
      ]
     },
     "metadata": {},
     "output_type": "display_data"
    }
   ],
   "source": [
    "%reload_ext jupyternotify\n",
    "%reload_ext nb_black\n",
    "%reload_ext autoreload\n",
    "%reload_ext line_profiler\n",
    "%autoreload 2\n",
    "\n",
    "from torch_snippets import *"
   ]
  },
  {
   "cell_type": "code",
   "execution_count": 2,
   "id": "025dde34",
   "metadata": {},
   "outputs": [
    {
     "data": {
      "application/javascript": [
       "\n",
       "            setTimeout(function() {\n",
       "                var nbb_cell_id = 2;\n",
       "                var nbb_unformatted_code = \"import py_and_id\\nfrom py_and_id import elements as elm, Segment, SegmentCircle\\nfrom py_and_id.elements.elements import Element2Term, gap\\nresheight = 0.35\";\n",
       "                var nbb_formatted_code = \"import py_and_id\\nfrom py_and_id import elements as elm, Segment, SegmentCircle\\nfrom py_and_id.elements.elements import Element2Term, gap\\n\\nresheight = 0.35\";\n",
       "                var nbb_cells = Jupyter.notebook.get_cells();\n",
       "                for (var i = 0; i < nbb_cells.length; ++i) {\n",
       "                    if (nbb_cells[i].input_prompt_number == nbb_cell_id) {\n",
       "                        if (nbb_cells[i].get_text() == nbb_unformatted_code) {\n",
       "                             nbb_cells[i].set_text(nbb_formatted_code);\n",
       "                        }\n",
       "                        break;\n",
       "                    }\n",
       "                }\n",
       "            }, 500);\n",
       "            "
      ],
      "text/plain": [
       "<IPython.core.display.Javascript object>"
      ]
     },
     "metadata": {},
     "output_type": "display_data"
    }
   ],
   "source": [
    "import py_and_id\n",
    "from py_and_id import elements as elm, Segment, SegmentCircle\n",
    "from py_and_id.elements.elements import Element2Term, gap\n",
    "\n",
    "resheight = 0.35"
   ]
  },
  {
   "cell_type": "code",
   "execution_count": 24,
   "id": "614359d3",
   "metadata": {},
   "outputs": [
    {
     "data": {
      "application/javascript": [
       "\n",
       "            setTimeout(function() {\n",
       "                var nbb_cell_id = 24;\n",
       "                var nbb_unformatted_code = \"elm.Rotary??\";\n",
       "                var nbb_formatted_code = \"elm.Rotary??\";\n",
       "                var nbb_cells = Jupyter.notebook.get_cells();\n",
       "                for (var i = 0; i < nbb_cells.length; ++i) {\n",
       "                    if (nbb_cells[i].input_prompt_number == nbb_cell_id) {\n",
       "                        if (nbb_cells[i].get_text() == nbb_unformatted_code) {\n",
       "                             nbb_cells[i].set_text(nbb_formatted_code);\n",
       "                        }\n",
       "                        break;\n",
       "                    }\n",
       "                }\n",
       "            }, 500);\n",
       "            "
      ],
      "text/plain": [
       "<IPython.core.display.Javascript object>"
      ]
     },
     "metadata": {},
     "output_type": "display_data"
    }
   ],
   "source": [
    "elm.Rotary??"
   ]
  },
  {
   "cell_type": "code",
   "execution_count": 23,
   "id": "65a0949e",
   "metadata": {},
   "outputs": [
    {
     "data": {
      "application/javascript": [
       "\n",
       "            setTimeout(function() {\n",
       "                var nbb_cell_id = 23;\n",
       "                var nbb_unformatted_code = \"elm.Rotary??\";\n",
       "                var nbb_formatted_code = \"elm.Rotary??\";\n",
       "                var nbb_cells = Jupyter.notebook.get_cells();\n",
       "                for (var i = 0; i < nbb_cells.length; ++i) {\n",
       "                    if (nbb_cells[i].input_prompt_number == nbb_cell_id) {\n",
       "                        if (nbb_cells[i].get_text() == nbb_unformatted_code) {\n",
       "                             nbb_cells[i].set_text(nbb_formatted_code);\n",
       "                        }\n",
       "                        break;\n",
       "                    }\n",
       "                }\n",
       "            }, 500);\n",
       "            "
      ],
      "text/plain": [
       "<IPython.core.display.Javascript object>"
      ]
     },
     "metadata": {},
     "output_type": "display_data"
    }
   ],
   "source": [
    "elm.Rotary??"
   ]
  },
  {
   "cell_type": "code",
   "execution_count": 13,
   "id": "63c402d9",
   "metadata": {},
   "outputs": [
    {
     "data": {
      "application/javascript": [
       "\n",
       "            setTimeout(function() {\n",
       "                var nbb_cell_id = 13;\n",
       "                var nbb_unformatted_code = \"elm.Element2Term??\";\n",
       "                var nbb_formatted_code = \"elm.Element2Term??\";\n",
       "                var nbb_cells = Jupyter.notebook.get_cells();\n",
       "                for (var i = 0; i < nbb_cells.length; ++i) {\n",
       "                    if (nbb_cells[i].input_prompt_number == nbb_cell_id) {\n",
       "                        if (nbb_cells[i].get_text() == nbb_unformatted_code) {\n",
       "                             nbb_cells[i].set_text(nbb_formatted_code);\n",
       "                        }\n",
       "                        break;\n",
       "                    }\n",
       "                }\n",
       "            }, 500);\n",
       "            "
      ],
      "text/plain": [
       "<IPython.core.display.Javascript object>"
      ]
     },
     "metadata": {},
     "output_type": "display_data"
    }
   ],
   "source": [
    "elm.Element2Term??"
   ]
  },
  {
   "cell_type": "code",
   "execution_count": 21,
   "id": "4aaaa58e",
   "metadata": {},
   "outputs": [
    {
     "data": {
      "image/png": "[encoded data removed]",
      "image/svg+xml": [
       "<?xml version=\"1.0\" encoding=\"utf-8\" standalone=\"no\"?>\n",
       "<!DOCTYPE svg PUBLIC \"-//W3C//DTD SVG 1.1//EN\"\n",
       "  \"http://www.w3.org/Graphics/SVG/1.1/DTD/svg11.dtd\">\n",
       "<svg xmlns:xlink=\"http://www.w3.org/1999/xlink\" width=\"112.32pt\" height=\"78.966pt\" viewBox=\"0 0 112.32 78.966\" xmlns=\"http://www.w3.org/2000/svg\" version=\"1.1\">\n",
       " <metadata>\n",
       "  <rdf:RDF xmlns:dc=\"http://purl.org/dc/elements/1.1/\" xmlns:cc=\"http://creativecommons.org/ns#\" xmlns:rdf=\"http://www.w3.org/1999/02/22-rdf-syntax-ns#\">\n",
       "   <cc:Work>\n",
       "    <dc:type rdf:resource=\"http://purl.org/dc/dcmitype/StillImage\"/>\n",
       "    <dc:date>2023-02-23T05:17:56.007392</dc:date>\n",
       "    <dc:format>image/svg+xml</dc:format>\n",
       "    <dc:creator>\n",
       "     <cc:Agent>\n",
       "      <dc:title>Matplotlib v3.7.0, https://matplotlib.org/</dc:title>\n",
       "     </cc:Agent>\n",
       "    </dc:creator>\n",
       "   </cc:Work>\n",
       "  </rdf:RDF>\n",
       " </metadata>\n",
       " <defs>\n",
       "  <style type=\"text/css\">*{stroke-linejoin: round; stroke-linecap: butt}</style>\n",
       " </defs>\n",
       " <g id=\"figure_1\">\n",
       "  <g id=\"patch_1\">\n",
       "   <path d=\"M 0 78.966 \n",
       "L 112.32 78.966 \n",
       "L 112.32 0 \n",
       "L 0 0 \n",
       "z\n",
       "\" style=\"fill: #ffffff\"/>\n",
       "  </g>\n",
       "  <g id=\"axes_1\">\n",
       "   <g id=\"line2d_1\">\n",
       "    <path d=\"M 10.26 53.1 \n",
       "L 50.805 53.1 \n",
       "L 50.805 63.81 \n",
       "L 61.515 42.39 \n",
       "L 61.515 53.1 \n",
       "L 102.06 53.1 \n",
       "\" clip-path=\"url(#p921395f182)\" style=\"fill: none; stroke: #000000; stroke-width: 2; stroke-linecap: round\"/>\n",
       "   </g>\n",
       "   <g id=\"line2d_2\">\n",
       "    <path d=\"M 50.805 42.39 \n",
       "L 71.807486 59.892071 \n",
       "\" clip-path=\"url(#p921395f182)\" style=\"fill: none; stroke: #000000; stroke-width: 2; stroke-linecap: round\"/>\n",
       "   </g>\n",
       "   <g id=\"patch_2\">\n",
       "    <path d=\"M 73.374657 58.011466 \n",
       "L 76.509 63.81 \n",
       "L 70.240314 61.772677 \n",
       "z\n",
       "\" clip-path=\"url(#p921395f182)\"/>\n",
       "   </g>\n",
       "   <g id=\"line2d_3\">\n",
       "    <path d=\"M 35.505 53.1 \n",
       "L 66.105 53.1 \n",
       "M 81.405 46.98 \n",
       "L 81.405 31.68 \n",
       "L 70.695 31.68 \n",
       "L 70.695 37.8 \n",
       "L 70.695 31.68 \n",
       "L 78.345 31.68 \n",
       "L 78.345 22.5 \n",
       "\" clip-path=\"url(#p921395f182)\" style=\"fill: none; stroke: #000000; stroke-width: 2; stroke-linecap: round\"/>\n",
       "   </g>\n",
       "   <g id=\"patch_3\">\n",
       "    <path d=\"M 76.05 22.5 \n",
       "L 78.345 14.85 \n",
       "L 80.64 22.5 \n",
       "z\n",
       "\" clip-path=\"url(#p921395f182)\"/>\n",
       "   </g>\n",
       "  </g>\n",
       " </g>\n",
       " <defs>\n",
       "  <clipPath id=\"p921395f182\">\n",
       "   <rect x=\"7.2\" y=\"7.2\" width=\"97.92\" height=\"64.566\"/>\n",
       "  </clipPath>\n",
       " </defs>\n",
       "</svg>\n"
      ],
      "text/plain": [
       "<__main__.Thing at 0x7ff8e13cda50>"
      ]
     },
     "execution_count": 21,
     "metadata": {},
     "output_type": "execute_result"
    },
    {
     "data": {
      "application/javascript": [
       "\n",
       "            setTimeout(function() {\n",
       "                var nbb_cell_id = 21;\n",
       "                var nbb_unformatted_code = \"class Thing(Element2Term):\\n    \\\"\\\"\\\"Thing\\\"\\\"\\\"\\n\\n    def __init__(self, *d, **kwargs):\\n        super().__init__(end=(0.9, 1.25), *d, **kwargs)\\n        self.segments.append(\\n            Segment(\\n                [\\n                    (0, 0),\\n                    (0, -resheight),\\n                    (resheight, resheight),\\n                    (resheight, 0),\\n                ]\\n            )\\n        )\\n        self.segments.append(\\n            Segment(\\n                [(0, resheight), (resheight * 2.4, -resheight)],\\n                arrow=\\\"->\\\",\\n                arrowwidth=0.16,\\n                arrowlength=0.2,\\n            )\\n        )\\n        self.segments.append(Segment([(-0.5, 0), (0.5, 0), gap,\\n                                       (1, 0.2), (1, 0.70), (0.65, 0.7), (0.65, 0.5), (0.65, 0.7), (0.9, 0.7), (0.9, 1.25)\\n                                       ], arrow=\\\"->\\\"))\\n\\n\\na = Thing()\\na\";\n",
       "                var nbb_formatted_code = \"class Thing(Element2Term):\\n    \\\"\\\"\\\"Thing\\\"\\\"\\\"\\n\\n    def __init__(self, *d, **kwargs):\\n        super().__init__(end=(0.9, 1.25), *d, **kwargs)\\n        self.segments.append(\\n            Segment(\\n                [\\n                    (0, 0),\\n                    (0, -resheight),\\n                    (resheight, resheight),\\n                    (resheight, 0),\\n                ]\\n            )\\n        )\\n        self.segments.append(\\n            Segment(\\n                [(0, resheight), (resheight * 2.4, -resheight)],\\n                arrow=\\\"->\\\",\\n                arrowwidth=0.16,\\n                arrowlength=0.2,\\n            )\\n        )\\n        self.segments.append(\\n            Segment(\\n                [\\n                    (-0.5, 0),\\n                    (0.5, 0),\\n                    gap,\\n                    (1, 0.2),\\n                    (1, 0.70),\\n                    (0.65, 0.7),\\n                    (0.65, 0.5),\\n                    (0.65, 0.7),\\n                    (0.9, 0.7),\\n                    (0.9, 1.25),\\n                ],\\n                arrow=\\\"->\\\",\\n            )\\n        )\\n\\n\\na = Thing()\\na\";\n",
       "                var nbb_cells = Jupyter.notebook.get_cells();\n",
       "                for (var i = 0; i < nbb_cells.length; ++i) {\n",
       "                    if (nbb_cells[i].input_prompt_number == nbb_cell_id) {\n",
       "                        if (nbb_cells[i].get_text() == nbb_unformatted_code) {\n",
       "                             nbb_cells[i].set_text(nbb_formatted_code);\n",
       "                        }\n",
       "                        break;\n",
       "                    }\n",
       "                }\n",
       "            }, 500);\n",
       "            "
      ],
      "text/plain": [
       "<IPython.core.display.Javascript object>"
      ]
     },
     "metadata": {},
     "output_type": "display_data"
    }
   ],
   "source": [
    "class Thing(Element2Term):\n",
    "    \"\"\"Thing\"\"\"\n",
    "\n",
    "    def __init__(self, *d, **kwargs):\n",
    "        super().__init__(end=(0.9, 1.25), *d, **kwargs)\n",
    "        self.segments.append(\n",
    "            Segment(\n",
    "                [\n",
    "                    (0, 0),\n",
    "                    (0, -resheight),\n",
    "                    (resheight, resheight),\n",
    "                    (resheight, 0),\n",
    "                ]\n",
    "            )\n",
    "        )\n",
    "        self.segments.append(\n",
    "            Segment(\n",
    "                [(0, resheight), (resheight * 2.4, -resheight)],\n",
    "                arrow=\"->\",\n",
    "                arrowwidth=0.16,\n",
    "                arrowlength=0.2,\n",
    "            )\n",
    "        )\n",
    "        self.segments.append(\n",
    "            Segment(\n",
    "                [\n",
    "                    (-0.5, 0),\n",
    "                    (0.5, 0),\n",
    "                    gap,\n",
    "                    (1, 0.2),\n",
    "                    (1, 0.70),\n",
    "                    (0.65, 0.7),\n",
    "                    (0.65, 0.5),\n",
    "                    (0.65, 0.7),\n",
    "                    (0.9, 0.7),\n",
    "                    (0.9, 1.25),\n",
    "                ],\n",
    "                arrow=\"->\",\n",
    "            )\n",
    "        )\n",
    "\n",
    "a = Thing()\n",
    "a"
   ]
  },
  {
   "cell_type": "code",
   "execution_count": 22,
   "id": "997e01fb",
   "metadata": {},
   "outputs": [
    {
     "data": {
      "image/png": "[encoded data removed]",
      "image/svg+xml": [
       "<?xml version=\"1.0\" encoding=\"utf-8\" standalone=\"no\"?>\n",
       "<!DOCTYPE svg PUBLIC \"-//W3C//DTD SVG 1.1//EN\"\n",
       "  \"http://www.w3.org/Graphics/SVG/1.1/DTD/svg11.dtd\">\n",
       "<svg xmlns:xlink=\"http://www.w3.org/1999/xlink\" width=\"479.52pt\" height=\"78.966pt\" viewBox=\"0 0 479.52 78.966\" xmlns=\"http://www.w3.org/2000/svg\" version=\"1.1\">\n",
       " <metadata>\n",
       "  <rdf:RDF xmlns:dc=\"http://purl.org/dc/elements/1.1/\" xmlns:cc=\"http://creativecommons.org/ns#\" xmlns:rdf=\"http://www.w3.org/1999/02/22-rdf-syntax-ns#\">\n",
       "   <cc:Work>\n",
       "    <dc:type rdf:resource=\"http://purl.org/dc/dcmitype/StillImage\"/>\n",
       "    <dc:date>2023-02-23T05:17:58.711831</dc:date>\n",
       "    <dc:format>image/svg+xml</dc:format>\n",
       "    <dc:creator>\n",
       "     <cc:Agent>\n",
       "      <dc:title>Matplotlib v3.7.0, https://matplotlib.org/</dc:title>\n",
       "     </cc:Agent>\n",
       "    </dc:creator>\n",
       "   </cc:Work>\n",
       "  </rdf:RDF>\n",
       " </metadata>\n",
       " <defs>\n",
       "  <style type=\"text/css\">*{stroke-linejoin: round; stroke-linecap: butt}</style>\n",
       " </defs>\n",
       " <g id=\"figure_1\">\n",
       "  <g id=\"patch_1\">\n",
       "   <path d=\"M 0 78.966 \n",
       "L 479.52 78.966 \n",
       "L 479.52 0 \n",
       "L 0 0 \n",
       "z\n",
       "\" style=\"fill: #ffffff\"/>\n",
       "  </g>\n",
       "  <g id=\"axes_1\">\n",
       "   <g id=\"line2d_1\">\n",
       "    <path d=\"M 10.26 53.1 \n",
       "L 53.406 53.1 \n",
       "M 53.406 45.45 \n",
       "L 53.406 60.75 \n",
       "M 58.914 45.45 \n",
       "L 58.914 60.75 \n",
       "M 58.914 53.1 \n",
       "L 102.06 53.1 \n",
       "\" clip-path=\"url(#pd2e8537002)\" style=\"fill: none; stroke: #000000; stroke-width: 2; stroke-linecap: round\"/>\n",
       "   </g>\n",
       "   <g id=\"line2d_2\">\n",
       "    <path d=\"M 102.06 53.1 \n",
       "L 145.206 53.1 \n",
       "M 145.206 45.45 \n",
       "L 145.206 60.75 \n",
       "M 150.714 45.45 \n",
       "L 150.714 60.75 \n",
       "M 150.714 53.1 \n",
       "L 193.86 53.1 \n",
       "\" clip-path=\"url(#pd2e8537002)\" style=\"fill: none; stroke: #000000; stroke-width: 2; stroke-linecap: round\"/>\n",
       "   </g>\n",
       "   <g id=\"line2d_3\">\n",
       "    <path d=\"M 193.86 53.1 \n",
       "L 234.405 53.1 \n",
       "L 234.405 63.81 \n",
       "L 245.115 42.39 \n",
       "L 245.115 53.1 \n",
       "L 285.66 53.1 \n",
       "\" clip-path=\"url(#pd2e8537002)\" style=\"fill: none; stroke: #000000; stroke-width: 2; stroke-linecap: round\"/>\n",
       "   </g>\n",
       "   <g id=\"line2d_4\">\n",
       "    <path d=\"M 234.405 42.39 \n",
       "L 255.407486 59.892071 \n",
       "\" clip-path=\"url(#pd2e8537002)\" style=\"fill: none; stroke: #000000; stroke-width: 2; stroke-linecap: round\"/>\n",
       "   </g>\n",
       "   <g id=\"patch_2\">\n",
       "    <path d=\"M 256.974657 58.011466 \n",
       "L 260.109 63.81 \n",
       "L 253.840314 61.772677 \n",
       "z\n",
       "\" clip-path=\"url(#pd2e8537002)\"/>\n",
       "   </g>\n",
       "   <g id=\"line2d_5\">\n",
       "    <path d=\"M 219.105 53.1 \n",
       "L 249.705 53.1 \n",
       "M 265.005 46.98 \n",
       "L 265.005 31.68 \n",
       "L 254.295 31.68 \n",
       "L 254.295 37.8 \n",
       "L 254.295 31.68 \n",
       "L 261.945 31.68 \n",
       "L 261.945 22.5 \n",
       "\" clip-path=\"url(#pd2e8537002)\" style=\"fill: none; stroke: #000000; stroke-width: 2; stroke-linecap: round\"/>\n",
       "   </g>\n",
       "   <g id=\"patch_3\">\n",
       "    <path d=\"M 259.65 22.5 \n",
       "L 261.945 14.85 \n",
       "L 264.24 22.5 \n",
       "z\n",
       "\" clip-path=\"url(#pd2e8537002)\"/>\n",
       "   </g>\n",
       "   <g id=\"line2d_6\">\n",
       "    <path d=\"M 285.66 53.1 \n",
       "L 326.205 53.1 \n",
       "L 326.205 63.81 \n",
       "L 336.915 42.39 \n",
       "L 336.915 53.1 \n",
       "L 377.46 53.1 \n",
       "\" clip-path=\"url(#pd2e8537002)\" style=\"fill: none; stroke: #000000; stroke-width: 2; stroke-linecap: round\"/>\n",
       "   </g>\n",
       "   <g id=\"line2d_7\">\n",
       "    <path d=\"M 326.205 42.39 \n",
       "L 347.207486 59.892071 \n",
       "\" clip-path=\"url(#pd2e8537002)\" style=\"fill: none; stroke: #000000; stroke-width: 2; stroke-linecap: round\"/>\n",
       "   </g>\n",
       "   <g id=\"patch_4\">\n",
       "    <path d=\"M 348.774657 58.011466 \n",
       "L 351.909 63.81 \n",
       "L 345.640314 61.772677 \n",
       "z\n",
       "\" clip-path=\"url(#pd2e8537002)\"/>\n",
       "   </g>\n",
       "   <g id=\"line2d_8\">\n",
       "    <path d=\"M 310.905 53.1 \n",
       "L 341.505 53.1 \n",
       "M 356.805 46.98 \n",
       "L 356.805 31.68 \n",
       "L 346.095 31.68 \n",
       "L 346.095 37.8 \n",
       "L 346.095 31.68 \n",
       "L 353.745 31.68 \n",
       "L 353.745 22.5 \n",
       "\" clip-path=\"url(#pd2e8537002)\" style=\"fill: none; stroke: #000000; stroke-width: 2; stroke-linecap: round\"/>\n",
       "   </g>\n",
       "   <g id=\"patch_5\">\n",
       "    <path d=\"M 351.45 22.5 \n",
       "L 353.745 14.85 \n",
       "L 356.04 22.5 \n",
       "z\n",
       "\" clip-path=\"url(#pd2e8537002)\"/>\n",
       "   </g>\n",
       "   <g id=\"line2d_9\">\n",
       "    <path d=\"M 377.46 53.1 \n",
       "L 418.005 53.1 \n",
       "L 418.005 63.81 \n",
       "L 428.715 42.39 \n",
       "L 428.715 53.1 \n",
       "L 469.26 53.1 \n",
       "\" clip-path=\"url(#pd2e8537002)\" style=\"fill: none; stroke: #000000; stroke-width: 2; stroke-linecap: round\"/>\n",
       "   </g>\n",
       "   <g id=\"line2d_10\">\n",
       "    <path d=\"M 418.005 42.39 \n",
       "L 439.007486 59.892071 \n",
       "\" clip-path=\"url(#pd2e8537002)\" style=\"fill: none; stroke: #000000; stroke-width: 2; stroke-linecap: round\"/>\n",
       "   </g>\n",
       "   <g id=\"patch_6\">\n",
       "    <path d=\"M 440.574657 58.011466 \n",
       "L 443.709 63.81 \n",
       "L 437.440314 61.772677 \n",
       "z\n",
       "\" clip-path=\"url(#pd2e8537002)\"/>\n",
       "   </g>\n",
       "   <g id=\"line2d_11\">\n",
       "    <path d=\"M 402.705 53.1 \n",
       "L 433.305 53.1 \n",
       "M 448.605 46.98 \n",
       "L 448.605 31.68 \n",
       "L 437.895 31.68 \n",
       "L 437.895 37.8 \n",
       "L 437.895 31.68 \n",
       "L 445.545 31.68 \n",
       "L 445.545 22.5 \n",
       "\" clip-path=\"url(#pd2e8537002)\" style=\"fill: none; stroke: #000000; stroke-width: 2; stroke-linecap: round\"/>\n",
       "   </g>\n",
       "   <g id=\"patch_7\">\n",
       "    <path d=\"M 443.25 22.5 \n",
       "L 445.545 14.85 \n",
       "L 447.84 22.5 \n",
       "z\n",
       "\" clip-path=\"url(#pd2e8537002)\"/>\n",
       "   </g>\n",
       "  </g>\n",
       " </g>\n",
       " <defs>\n",
       "  <clipPath id=\"pd2e8537002\">\n",
       "   <rect x=\"7.2\" y=\"7.2\" width=\"465.12\" height=\"64.566\"/>\n",
       "  </clipPath>\n",
       " </defs>\n",
       "</svg>\n"
      ],
      "text/plain": [
       "<py_and_id.py_and_id.Drawing at 0x7ff8e14aa2f0>"
      ]
     },
     "execution_count": 22,
     "metadata": {},
     "output_type": "execute_result"
    },
    {
     "data": {
      "application/javascript": [
       "\n",
       "            setTimeout(function() {\n",
       "                var nbb_cell_id = 22;\n",
       "                var nbb_unformatted_code = \"# add_elements function\\nd = py_and_id.Drawing()\\nd.add_elements(elm.Flange(), elm.Flange(), Thing(), Thing(), Thing())\\nd\";\n",
       "                var nbb_formatted_code = \"# add_elements function\\nd = py_and_id.Drawing()\\nd.add_elements(elm.Flange(), elm.Flange(), Thing(), Thing(), Thing())\\nd\";\n",
       "                var nbb_cells = Jupyter.notebook.get_cells();\n",
       "                for (var i = 0; i < nbb_cells.length; ++i) {\n",
       "                    if (nbb_cells[i].input_prompt_number == nbb_cell_id) {\n",
       "                        if (nbb_cells[i].get_text() == nbb_unformatted_code) {\n",
       "                             nbb_cells[i].set_text(nbb_formatted_code);\n",
       "                        }\n",
       "                        break;\n",
       "                    }\n",
       "                }\n",
       "            }, 500);\n",
       "            "
      ],
      "text/plain": [
       "<IPython.core.display.Javascript object>"
      ]
     },
     "metadata": {},
     "output_type": "display_data"
    }
   ],
   "source": [
    "# add_elements function\n",
    "d = py_and_id.Drawing()\n",
    "d.add_elements(elm.Flange(), elm.Flange(), Thing(), Thing(), Thing())\n",
    "d"
   ]
  },
  {
   "cell_type": "code",
   "execution_count": null,
   "id": "598c3994",
   "metadata": {},
   "outputs": [],
   "source": []
  }
 ],
 "metadata": {
  "kernelspec": {
   "display_name": "Python 3 (ipykernel)",
   "language": "python",
   "name": "python3"
  },
  "language_info": {
   "codemirror_mode": {
    "name": "ipython",
    "version": 3
   },
   "file_extension": ".py",
   "mimetype": "text/x-python",
   "name": "python",
   "nbconvert_exporter": "python",
   "pygments_lexer": "ipython3",
   "version": "3.10.8"
  }
 },
 "nbformat": 4,
 "nbformat_minor": 5
}
